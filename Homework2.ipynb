{
  "nbformat": 4,
  "nbformat_minor": 0,
  "metadata": {
    "colab": {
      "name": "Homework2",
      "provenance": []
    },
    "kernelspec": {
      "name": "python3",
      "display_name": "Python 3"
    },
    "language_info": {
      "name": "python"
    }
  },
  "cells": [
    {
      "cell_type": "code",
      "metadata": {
        "colab": {
          "base_uri": "https://localhost:8080/"
        },
        "id": "dHvM6iN4mdt6",
        "outputId": "a2c2ca70-21cf-49ca-debe-6daf96fa9051"
      },
      "source": [
        "file = open('student_name.txt')\n",
        "students = file.read()\n",
        "print(students)"
      ],
      "execution_count": 1,
      "outputs": [
        {
          "output_type": "stream",
          "name": "stdout",
          "text": [
            "John\n",
            "Emily\n",
            "Veronica\n",
            "Julia\n",
            "Antonio\n",
            "Pablo\n"
          ]
        }
      ]
    },
    {
      "cell_type": "code",
      "metadata": {
        "id": "5ueRJ8rBnFLj"
      },
      "source": [
        "students = students + '\\nEren\\nJeong\\nYuno'"
      ],
      "execution_count": 2,
      "outputs": []
    },
    {
      "cell_type": "code",
      "metadata": {
        "colab": {
          "base_uri": "https://localhost:8080/"
        },
        "id": "b46BrOQ6nQI_",
        "outputId": "29a0ddd6-a0c8-4c4d-d4db-d897077182af"
      },
      "source": [
        "file = open('student_name.txt','w')\n",
        "file.write(students)"
      ],
      "execution_count": 3,
      "outputs": [
        {
          "output_type": "execute_result",
          "data": {
            "text/plain": [
              "55"
            ]
          },
          "metadata": {},
          "execution_count": 3
        }
      ]
    },
    {
      "cell_type": "code",
      "metadata": {
        "colab": {
          "base_uri": "https://localhost:8080/"
        },
        "id": "s6Acz-hco2aq",
        "outputId": "27d5ffd2-576f-45af-96e5-3a7c2e838b11"
      },
      "source": [
        "print(students)"
      ],
      "execution_count": 4,
      "outputs": [
        {
          "output_type": "stream",
          "name": "stdout",
          "text": [
            "John\n",
            "Emily\n",
            "Veronica\n",
            "Julia\n",
            "Antonio\n",
            "Pablo\n",
            "Eren\n",
            "Jeong\n",
            "Yuno\n"
          ]
        }
      ]
    },
    {
      "cell_type": "code",
      "metadata": {
        "colab": {
          "base_uri": "https://localhost:8080/"
        },
        "id": "qmGrV7IJqnzW",
        "outputId": "97319c99-6dfb-4e82-bd8b-02c1e12deaa6"
      },
      "source": [
        "n = int(input())"
      ],
      "execution_count": 5,
      "outputs": [
        {
          "name": "stdout",
          "output_type": "stream",
          "text": [
            "6\n"
          ]
        }
      ]
    },
    {
      "cell_type": "code",
      "metadata": {
        "colab": {
          "base_uri": "https://localhost:8080/"
        },
        "id": "jQP2oNO42Iuq",
        "outputId": "d431e05e-4cdb-4b42-b28c-d835bef5e280"
      },
      "source": [
        "    with open(\"student_name.txt\") as file:\n",
        "         \n",
        "        for line in (file.readlines() [:n]):\n",
        "            print(line)"
      ],
      "execution_count": 7,
      "outputs": [
        {
          "output_type": "stream",
          "name": "stdout",
          "text": [
            "John\n",
            "\n",
            "Emily\n",
            "\n",
            "Veronica\n",
            "\n",
            "Julia\n",
            "\n",
            "Antonio\n",
            "\n",
            "Pablo\n",
            "\n"
          ]
        }
      ]
    },
    {
      "cell_type": "code",
      "metadata": {
        "colab": {
          "base_uri": "https://localhost:8080/"
        },
        "id": "t8j1HLS_zDVr",
        "outputId": "b51d9df4-53fa-48ae-d09c-2a195cb819fa"
      },
      "source": [
        "    with open(\"student_name.txt\") as file:\n",
        "         \n",
        "        for line in (file.readlines() [-n:]):\n",
        "            print(line)"
      ],
      "execution_count": 8,
      "outputs": [
        {
          "output_type": "stream",
          "name": "stdout",
          "text": [
            "Julia\n",
            "\n",
            "Antonio\n",
            "\n",
            "Pablo\n",
            "\n",
            "Eren\n",
            "\n",
            "Jeong\n",
            "\n",
            "Yuno\n"
          ]
        }
      ]
    },
    {
      "cell_type": "code",
      "metadata": {
        "colab": {
          "base_uri": "https://localhost:8080/"
        },
        "id": "WZ1tO6zG2Xxo",
        "outputId": "5d3a3eca-d8a4-493a-b946-b393c12ded47"
      },
      "source": [
        "with open('student_name.txt') as file:\n",
        "    f = file.read()\n",
        "    name = input()\n",
        "    if name in f:\n",
        "        print ('The name exists')\n",
        "    else:\n",
        "        print ('The name doesnt exist')"
      ],
      "execution_count": 9,
      "outputs": [
        {
          "output_type": "stream",
          "name": "stdout",
          "text": [
            "Yona\n",
            "The name doesnt exist\n"
          ]
        }
      ]
    },
    {
      "cell_type": "code",
      "metadata": {
        "id": "SE82MxSF3EAU"
      },
      "source": [
        "import string, os\n",
        "os.makedirs(\"letter\")\n",
        "for letter in string.ascii_uppercase:\n",
        "   with open(letter + \".txt\", \"w\") as f:\n",
        "       f.writelines(letter)"
      ],
      "execution_count": 10,
      "outputs": []
    }
  ]
}