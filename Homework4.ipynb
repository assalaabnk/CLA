{
  "nbformat": 4,
  "nbformat_minor": 0,
  "metadata": {
    "colab": {
      "name": "Homework4",
      "provenance": []
    },
    "kernelspec": {
      "name": "python3",
      "display_name": "Python 3"
    },
    "language_info": {
      "name": "python"
    }
  },
  "cells": [
    {
      "cell_type": "code",
      "metadata": {
        "colab": {
          "base_uri": "https://localhost:8080/"
        },
        "id": "CbmH--jnaU67",
        "outputId": "430f05c0-484b-4de3-b411-998ab90db5c3"
      },
      "source": [
        "a = 12\n",
        "s = \"hello\"\n",
        "try:\n",
        "\tprint(\"inside try\")\n",
        "\tprint(a + s) # will raise TypeError\n",
        "\tprint(\"Printed using original data types\")\n",
        "except TypeError: # will handle only TypeError\n",
        "\tprint(\"inside except\")\n",
        "\tprint(str(a) + s)\n",
        "\tprint(\"Printed using type-casted data types\")"
      ],
      "execution_count": 1,
      "outputs": [
        {
          "output_type": "stream",
          "name": "stdout",
          "text": [
            "inside try\n",
            "inside except\n",
            "12hello\n",
            "Printed using type-casted data types\n"
          ]
        }
      ]
    }
  ]
}